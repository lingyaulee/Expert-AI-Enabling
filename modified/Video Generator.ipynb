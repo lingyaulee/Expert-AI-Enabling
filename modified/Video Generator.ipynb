{
 "cells": [
  {
   "cell_type": "code",
   "execution_count": 2,
   "metadata": {},
   "outputs": [],
   "source": [
    "import pandas as pd\n",
    "import numpy as np\n",
    "import cv2\n",
    "import matplotlib.pyplot as plt\n",
    "\n",
    "import IPython.display as ipd\n",
    "from tqdm import tqdm\n",
    "\n",
    "from pytube import YouTube\n",
    "\n",
    "plt.style.use('ggplot')"
   ]
  },
  {
   "cell_type": "code",
   "execution_count": 117,
   "metadata": {},
   "outputs": [
    {
     "data": {
      "text/plain": [
       "'c:\\\\Users\\\\Lingyau\\\\Documents\\\\Python Scripts\\\\yolov5\\\\modified\\\\Lots of Butterfly Flying in Flowers Garden  How Butterflies Pollinate Flowers.mp4'"
      ]
     },
     "execution_count": 117,
     "metadata": {},
     "output_type": "execute_result"
    }
   ],
   "source": [
    "#download video from youtube \n",
    "from pytube import YouTube\n",
    "yt = YouTube('https://www.youtube.com/watch?v=6hyLdfYIcxI')\n",
    "yt.streams.filter(progressive=True, file_extension='mp4').order_by('resolution')[-1].download()"
   ]
  },
  {
   "cell_type": "code",
   "execution_count": 6,
   "metadata": {},
   "outputs": [],
   "source": [
    "#retrieve the butterfly count data \n",
    "dfCount = pd.read_csv('count_by_frame.csv')\n"
   ]
  },
  {
   "cell_type": "code",
   "execution_count": 7,
   "metadata": {},
   "outputs": [
    {
     "data": {
      "text/plain": [
       "2128"
      ]
     },
     "execution_count": 7,
     "metadata": {},
     "output_type": "execute_result"
    }
   ],
   "source": [
    "len(dfCount)"
   ]
  },
  {
   "cell_type": "code",
   "execution_count": 8,
   "metadata": {},
   "outputs": [],
   "source": [
    "# Label and output Annotated Video\n",
    "#this last section generates a new video adding the butterfly count to it which is retrieved from "
   ]
  },
  {
   "cell_type": "code",
   "execution_count": 9,
   "metadata": {},
   "outputs": [],
   "source": [
    "cap = cv2.VideoCapture('Lots of Butterfly Flying in Flowers Garden  How Butterflies Pollinate Flowers.mp4')\n",
    "fps = cap.get(cv2.CAP_PROP_FPS)\n",
    "width = 1280\n",
    "height = 720"
   ]
  },
  {
   "cell_type": "code",
   "execution_count": 10,
   "metadata": {},
   "outputs": [
    {
     "name": "stderr",
     "output_type": "stream",
     "text": [
      "100%|██████████| 2128/2128 [00:28<00:00, 73.66it/s]\n"
     ]
    }
   ],
   "source": [
    "VIDEO_CODEC = \"mp4v\"\n",
    "out = cv2.VideoWriter(\"out_test.mp4\",\n",
    "                cv2.VideoWriter_fourcc(*VIDEO_CODEC),\n",
    "                fps,\n",
    "                (width, height))\n",
    "\n",
    "cap = cv2.VideoCapture(\"Lots of Butterfly Flying in Flowers Garden  How Butterflies Pollinate Flowers.mp4\")\n",
    "n_frames = int(cap.get(cv2.CAP_PROP_FRAME_COUNT))\n",
    "\n",
    "#text settings \n",
    "font = cv2.FONT_HERSHEY_TRIPLEX\n",
    "pt_text = (150, 150)\n",
    "color = (0, 0, 255) #red \n",
    "\n",
    "for frame in tqdm(range(n_frames), total=n_frames):\n",
    "    ret, img = cap.read()\n",
    "    if ret == False:\n",
    "        break\n",
    "    img = cv2.putText(img, str(dfCount.iloc[frame]), pt_text, font, 5, color,2) \n",
    "    out.write(img)\n",
    "out.release()\n",
    "cap.release()"
   ]
  }
 ],
 "metadata": {
  "kernelspec": {
   "display_name": "base",
   "language": "python",
   "name": "python3"
  },
  "language_info": {
   "codemirror_mode": {
    "name": "ipython",
    "version": 3
   },
   "file_extension": ".py",
   "mimetype": "text/x-python",
   "name": "python",
   "nbconvert_exporter": "python",
   "pygments_lexer": "ipython3",
   "version": "3.8.16"
  },
  "orig_nbformat": 4,
  "vscode": {
   "interpreter": {
    "hash": "aee2b46aa9cec893d6d3f08ef8d3c403c036e997f11cac8c5243866984f66f05"
   }
  }
 },
 "nbformat": 4,
 "nbformat_minor": 2
}
